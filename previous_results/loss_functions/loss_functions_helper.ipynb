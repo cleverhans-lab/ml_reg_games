{
 "cells": [
  {
   "cell_type": "markdown",
   "metadata": {},
   "source": [
    "This notebook is used to generate the loss function arrays given results csv"
   ]
  },
  {
   "cell_type": "code",
   "execution_count": 1,
   "metadata": {},
   "outputs": [],
   "source": [
    "import pandas as pd\n",
    "import numpy as np"
   ]
  },
  {
   "cell_type": "code",
   "execution_count": 8,
   "metadata": {},
   "outputs": [],
   "source": [
    "dataset = 'mnist'\n",
    "method = 'dpsgd-g-a'\n",
    "# before processing\n",
    "raw_result=True\n",
    "fairness_var = 'tau'\n",
    "coverage = False\n",
    "loss_function_file_path = f\"./{dataset}/{method}/\""
   ]
  },
  {
   "cell_type": "code",
   "execution_count": 18,
   "metadata": {},
   "outputs": [],
   "source": [
    "df = pd.read_csv(f'{loss_function_file_path}results.csv')"
   ]
  },
  {
   "cell_type": "code",
   "execution_count": 19,
   "metadata": {},
   "outputs": [],
   "source": [
    "if raw_result and method == 'dpsgd-g-a':\n",
    "    df['achieved_fairness_gap'] = abs((df['accuracy_2']-0.93) - (df['accuracy_8']-0.86))"
   ]
  },
  {
   "cell_type": "code",
   "execution_count": 20,
   "metadata": {},
   "outputs": [],
   "source": [
    "if coverage:\n",
    "    df = df[['epsilon', fairness_var, 'achieved_epsilon', 'achieved_fairness_gap', 'accuracy', 'coverage']]\n",
    "else:\n",
    "    df = df[['epsilon', fairness_var, 'achieved_epsilon', 'achieved_fairness_gap', 'accuracy']]\n",
    "    if raw_result:\n",
    "        # save back\n",
    "        df.to_csv(f'{loss_function_file_path}results.csv', index=False)"
   ]
  },
  {
   "cell_type": "code",
   "execution_count": 14,
   "metadata": {},
   "outputs": [],
   "source": [
    "# builder loss\n",
    "acc = np.array(df['accuracy'])\n",
    "# take the percentage version of accuracy for consistency\n",
    "if max(acc) <= 1:\n",
    "    acc = 100 * acc\n",
    "acc = acc.reshape((len(acc), 1))\n",
    "\n",
    "np.save(f'{loss_function_file_path}builder_loss_acc.npy', acc)\n",
    "\n",
    "if coverage:\n",
    "    cov = np.array(df['coverage'])\n",
    "    # take the percentage version of coverage for consistency\n",
    "    if max(cov) <= 1:\n",
    "        cov = 100 * cov\n",
    "    cov = cov.reshape((len(cov), 1))\n",
    "\n",
    "    np.save(f'{loss_function_file_path}builder_loss_cov.npy', cov)"
   ]
  },
  {
   "cell_type": "code",
   "execution_count": 15,
   "metadata": {},
   "outputs": [],
   "source": [
    "# fairness loss\n",
    "fairness = np.array(df['achieved_fairness_gap'])\n",
    "fairness = fairness.reshape((len(fairness), 1))\n",
    "\n",
    "np.save(f'{loss_function_file_path}fairness_loss.npy', fairness)"
   ]
  },
  {
   "cell_type": "code",
   "execution_count": 16,
   "metadata": {},
   "outputs": [],
   "source": [
    "# privacy loss\n",
    "privacy = np.array(df['achieved_epsilon'])\n",
    "privacy = privacy.reshape((len(privacy), 1))\n",
    "\n",
    "np.save(f'{loss_function_file_path}privacy_loss.npy', privacy)"
   ]
  },
  {
   "cell_type": "code",
   "execution_count": 17,
   "metadata": {},
   "outputs": [],
   "source": [
    "# input parameters\n",
    "fairness_input = np.array(df[fairness_var])\n",
    "fairness_input = fairness_input.reshape((len(fairness_input), 1))\n",
    "\n",
    "privacy_input = np.array(df['epsilon'])\n",
    "privacy_input = privacy_input.reshape((len(privacy_input), 1))\n",
    "inputs = np.concatenate((privacy_input, fairness_input), axis = 1)\n",
    "\n",
    "np.save(f'{loss_function_file_path}priv_fair_values.npy', inputs)"
   ]
  }
 ],
 "metadata": {
  "kernelspec": {
   "display_name": "Python 3",
   "language": "python",
   "name": "python3"
  },
  "language_info": {
   "codemirror_mode": {
    "name": "ipython",
    "version": 3
   },
   "file_extension": ".py",
   "mimetype": "text/x-python",
   "name": "python",
   "nbconvert_exporter": "python",
   "pygments_lexer": "ipython3",
   "version": "3.10.10"
  }
 },
 "nbformat": 4,
 "nbformat_minor": 2
}
