{
 "cells": [
  {
   "cell_type": "markdown",
   "metadata": {},
   "source": [
    "This notebook is used to visualize the pre-calculated pf surfaces"
   ]
  },
  {
   "cell_type": "code",
   "execution_count": 59,
   "metadata": {},
   "outputs": [],
   "source": [
    "import numpy as np\n",
    "import plotly.graph_objects as go\n",
    "import matplotlib.pyplot as plt\n",
    "\n",
    "import pandas as pd\n",
    "from scipy.interpolate import griddata"
   ]
  },
  {
   "cell_type": "markdown",
   "metadata": {},
   "source": [
    "# Setup and Functions"
   ]
  },
  {
   "cell_type": "code",
   "execution_count": 60,
   "metadata": {},
   "outputs": [],
   "source": [
    "# Initialize figure settings\n",
    "SMALL_SIZE = 22\n",
    "MEDIUM_SIZE = SMALL_SIZE + 2\n",
    "BIGGER_SIZE = SMALL_SIZE + 5\n",
    "\n",
    "plt.rc('font', size=SMALL_SIZE)          # controls default text sizes\n",
    "plt.rc('axes', titlesize=SMALL_SIZE)     # fontsize of the axes title\n",
    "plt.rc('axes', labelsize=MEDIUM_SIZE)    # fontsize of the x and y labels\n",
    "plt.rc('xtick', labelsize=SMALL_SIZE)    # fontsize of the tick labels\n",
    "plt.rc('ytick', labelsize=SMALL_SIZE)    # fontsize of the tick labels\n",
    "plt.rc('legend', fontsize=SMALL_SIZE)    # legend fontsize\n",
    "plt.rc('figure', titlesize=BIGGER_SIZE)  # fontsize of the figure title\n",
    "\n",
    "rc_fonts = {\n",
    "    \"text.usetex\": True,\n",
    "    'text.latex.preamble':\n",
    "        r\"\"\"\n",
    "        \\usepackage{amsmath}\n",
    "        \\usepackage{libertine}\n",
    "        \\usepackage[libertine]{newtxmath}\n",
    "        \"\"\",\n",
    "}\n",
    "\n",
    "plt.rcParams.update(rc_fonts)"
   ]
  },
  {
   "cell_type": "code",
   "execution_count": 2,
   "metadata": {},
   "outputs": [],
   "source": [
    "def is_pareto_efficient(costs, return_mask = False):\n",
    "        \"\"\"\n",
    "            Find the pareto-efficient points\n",
    "            :param costs: An (n_points, n_costs) array\n",
    "            :param return_mask: True to return a mask\n",
    "            :return: An array of indices of pareto-efficient points.\n",
    "                If return_mask is True, this will be an (n_points, ) boolean array\n",
    "                Otherwise it will be a (n_efficient_points, ) integer array of indices.\n",
    "        \"\"\"\n",
    "        is_efficient = np.arange(costs.shape[0])\n",
    "        n_points = costs.shape[0]\n",
    "        next_point_index = 0  # Next index in the is_efficient array to search for\n",
    "        while next_point_index<len(costs):\n",
    "            nondominated_point_mask = np.any(costs<costs[next_point_index], axis=1)\n",
    "            nondominated_point_mask[next_point_index] = True\n",
    "            is_efficient = is_efficient[nondominated_point_mask]  # Remove dominated points\n",
    "            costs = costs[nondominated_point_mask]\n",
    "            next_point_index = np.sum(nondominated_point_mask[:next_point_index])+1\n",
    "        if return_mask:\n",
    "            is_efficient_mask = np.zeros(n_points, dtype = bool)\n",
    "            is_efficient_mask[is_efficient] = True\n",
    "            return is_efficient_mask\n",
    "        else:\n",
    "            return is_efficient"
   ]
  },
  {
   "cell_type": "code",
   "execution_count": 125,
   "metadata": {},
   "outputs": [],
   "source": [
    "dataset = 'mnist'\n",
    "method = 'dpsgd-g-a'\n",
    "fairness_var = 'tau'\n",
    "coverage = False\n",
    "loss_function_file_path = f\"./{dataset}/{method}/\""
   ]
  },
  {
   "cell_type": "markdown",
   "metadata": {},
   "source": [
    "# Graphing"
   ]
  },
  {
   "cell_type": "code",
   "execution_count": 126,
   "metadata": {},
   "outputs": [],
   "source": [
    "# Read data from a csv\n",
    "data = pd.read_csv(f'{loss_function_file_path}results.csv')\n",
    "if max(data['accuracy'].to_numpy()) <= 1:\n",
    "    data['accuracy'] = data['accuracy'] * 100\n",
    "# Get pf points\n",
    "if method == 'fairPATE':\n",
    "    pf_index = is_pareto_efficient(np.stack([data['achieved_epsilon'].to_numpy(), \n",
    "                                            data['achieved_fairness_gap'].to_numpy(),\n",
    "                                            -data['accuracy'].to_numpy(),\n",
    "                                            -data['coverage'].to_numpy(),], axis=1))\n",
    "elif method == 'dpsgd-g-a':\n",
    "    pf_index = is_pareto_efficient(np.stack([data['achieved_epsilon'].to_numpy(), \n",
    "                                            data['achieved_fairness_gap'].to_numpy(),\n",
    "                                            -data['accuracy'].to_numpy()], axis=1))"
   ]
  },
  {
   "cell_type": "code",
   "execution_count": 127,
   "metadata": {},
   "outputs": [],
   "source": [
    "if method == 'fairPATE':\n",
    "    results = np.stack([data[fairness_var].to_numpy(), \n",
    "                        data['achieved_epsilon'].to_numpy(), \n",
    "                        data['achieved_fairness_gap'].to_numpy(),\n",
    "                        data['accuracy'].to_numpy(),\n",
    "                        data['coverage'].to_numpy()], axis=1)\n",
    "elif method == 'dpsgd-g-a':\n",
    "    results = np.stack([data[fairness_var].to_numpy(), \n",
    "                    data['achieved_epsilon'].to_numpy(), \n",
    "                    data['achieved_fairness_gap'].to_numpy(),\n",
    "                    data['accuracy'].to_numpy()], axis=1)"
   ]
  },
  {
   "cell_type": "code",
   "execution_count": 135,
   "metadata": {},
   "outputs": [],
   "source": [
    "x = np.array(data['achieved_epsilon'])[pf_index]\n",
    "y = np.array(data['achieved_fairness_gap'])[pf_index]\n",
    "z = np.array(data['accuracy'])[pf_index]\n",
    "\n",
    "\n",
    "xi = np.linspace(x.min(), x.max(), 100)\n",
    "yi = np.linspace(y.min(), y.max(), 100)\n",
    "\n",
    "X,Y = np.meshgrid(xi,yi)\n",
    "\n",
    "Z = griddata((x,y),z,(X,Y), method='linear')\n",
    "if method == 'fairPATE':\n",
    "    c = np.array(data['coverage'])[pf_index]\n",
    "    C = griddata((x,y),c,(X,Y), method='linear')\n",
    "    colorscale='Viridis'\n",
    "else:\n",
    "    C = None\n",
    "    colorscale='Plasma'"
   ]
  },
  {
   "cell_type": "code",
   "execution_count": null,
   "metadata": {},
   "outputs": [],
   "source": [
    "\n",
    "fig = go.Figure(go.Surface(x=xi,y=yi,z=Z, surfacecolor=C, colorscale=colorscale))\n",
    "fig.update_layout(width=700, \n",
    "                  height=500,\n",
    "                  margin=dict(l=0, r=50, b=10, t=10),\n",
    "                  scene_camera= dict(\n",
    "                    up=dict(x=0, y=0, z=10),\n",
    "                    center=dict(x=0, y=0, z=-0.2),\n",
    "                    eye=dict(x=-1.25, y=1.25, z=0.8)\n",
    "                  ), \n",
    "                  scene=dict(\n",
    "                    xaxis_title='Epsilon Budget Achieved',\n",
    "                    yaxis_title='Max Fairness Violation',\n",
    "                    zaxis_title='Accuray',\n",
    "                     ))\n",
    "fig.update_yaxes(automargin='left+top')\n",
    "fig.show()"
   ]
  },
  {
   "cell_type": "code",
   "execution_count": 137,
   "metadata": {},
   "outputs": [],
   "source": [
    "fig.write_image(f\"../../visualizations/figures/{dataset}_{method}_pf.pdf\")"
   ]
  }
 ],
 "metadata": {
  "kernelspec": {
   "display_name": "Python 3",
   "language": "python",
   "name": "python3"
  },
  "language_info": {
   "codemirror_mode": {
    "name": "ipython",
    "version": 3
   },
   "file_extension": ".py",
   "mimetype": "text/x-python",
   "name": "python",
   "nbconvert_exporter": "python",
   "pygments_lexer": "ipython3",
   "version": "3.10.7"
  }
 },
 "nbformat": 4,
 "nbformat_minor": 2
}
